{
 "metadata": {
  "language_info": {
   "codemirror_mode": {
    "name": "ipython",
    "version": 3
   },
   "file_extension": ".py",
   "mimetype": "text/x-python",
   "name": "python",
   "nbconvert_exporter": "python",
   "pygments_lexer": "ipython3",
   "version": "3.9.1-final"
  },
  "orig_nbformat": 2,
  "kernelspec": {
   "name": "python3",
   "display_name": "Python 3.9.1 64-bit",
   "metadata": {
    "interpreter": {
     "hash": "42e06a2701c1e43f55d26907290c4650368653e721673dac61b2dd967a322c59"
    }
   }
  }
 },
 "nbformat": 4,
 "nbformat_minor": 2,
 "cells": [
  {
   "source": [
    "# Example first hello world\n",
    "\n",
    "print(\"hello world\")\n",
    "name = input(\"What is your name?\")\n",
    "print(\"Hello\",name)"
   ],
   "cell_type": "code",
   "metadata": {},
   "execution_count": 1,
   "outputs": [
    {
     "output_type": "stream",
     "name": "stdout",
     "text": [
      "--Return--\n",
      "None\n",
      "> \u001b[1;32m<ipython-input-1-a5ba0f77a964>\u001b[0m(1)\u001b[0;36m<module>\u001b[1;34m()\u001b[0m\n",
      "\u001b[1;32m----> 1 \u001b[1;33m\u001b[0mbreakpoint\u001b[0m\u001b[1;33m(\u001b[0m\u001b[1;33m)\u001b[0m\u001b[1;33m\u001b[0m\u001b[1;33m\u001b[0m\u001b[0m\n",
      "\u001b[0m\u001b[1;32m      2 \u001b[1;33m\u001b[1;31m# Example file hello world\u001b[0m\u001b[1;33m\u001b[0m\u001b[1;33m\u001b[0m\u001b[1;33m\u001b[0m\u001b[0m\n",
      "\u001b[0m\u001b[1;32m      3 \u001b[1;33m\u001b[1;33m\u001b[0m\u001b[0m\n",
      "\u001b[0m\u001b[1;32m      4 \u001b[1;33m\u001b[0mprint\u001b[0m\u001b[1;33m(\u001b[0m\u001b[1;34m\"hello world\"\u001b[0m\u001b[1;33m)\u001b[0m\u001b[1;33m\u001b[0m\u001b[1;33m\u001b[0m\u001b[0m\n",
      "\u001b[0m\u001b[1;32m      5 \u001b[1;33m\u001b[0mname\u001b[0m \u001b[1;33m=\u001b[0m \u001b[0minput\u001b[0m\u001b[1;33m(\u001b[0m\u001b[1;34m\"What is your name?\"\u001b[0m\u001b[1;33m)\u001b[0m\u001b[1;33m\u001b[0m\u001b[1;33m\u001b[0m\u001b[0m\n",
      "\u001b[0m\n",
      "*** NameError: name 'da' is not defined\n",
      "*** NameError: name 'da' is not defined\n",
      "*** NameError: name 'da' is not defined\n",
      "*** NameError: name 'da' is not defined\n",
      "*** NameError: name 'da' is not defined\n",
      "*** NameError: name 'da' is not defined\n",
      "*** NameError: name 'da' is not defined\n",
      "*** NameError: name 'da' is not defined\n",
      "*** NameError: name 'da' is not defined\n",
      "*** NameError: name 'da' is not defined\n",
      "*** NameError: name 'da' is not defined\n",
      "*** NameError: name 'da' is not defined\n",
      "*** NameError: name 'da' is not defined\n",
      "*** NameError: name 'da' is not defined\n",
      "*** NameError: name 'da' is not defined\n",
      "*** NameError: name 'da' is not defined\n",
      "*** NameError: name 'da' is not defined\n",
      "*** NameError: name 'da' is not defined\n",
      "*** NameError: name 'da' is not defined\n",
      "*** NameError: name 'da' is not defined\n",
      "*** NameError: name 'da' is not defined\n",
      "*** NameError: name 'da' is not defined\n",
      "*** NameError: name 'da' is not defined\n",
      "*** NameError: name 'da' is not defined\n",
      "*** NameError: name 'da' is not defined\n",
      "*** NameError: name 'da' is not defined\n",
      "*** NameError: name 'da' is not defined\n",
      "*** NameError: name 'da' is not defined\n",
      "*** NameError: name 'da' is not defined\n",
      "*** NameError: name 'da' is not defined\n",
      "*** NameError: name 'da' is not defined\n",
      "*** NameError: name 'da' is not defined\n",
      "*** NameError: name 'da' is not defined\n",
      "*** NameError: name 'da' is not defined\n",
      "*** NameError: name 'da' is not defined\n",
      "*** NameError: name 'da' is not defined\n",
      "*** NameError: name 'da' is not defined\n",
      "*** NameError: name 'da' is not defined\n",
      "*** NameError: name 'da' is not defined\n",
      "*** NameError: name 'da' is not defined\n",
      "*** NameError: name 'da' is not defined\n",
      "--KeyboardInterrupt--\n",
      "\n",
      "KeyboardInterrupt: Interrupted by user\n",
      "hello world\n",
      "Hello \n"
     ]
    }
   ]
  },
  {
   "cell_type": "code",
   "execution_count": 1,
   "metadata": {},
   "outputs": [
    {
     "output_type": "stream",
     "name": "stdout",
     "text": [
      "hello world\n",
      "Hello \n"
     ]
    }
   ],
   "source": [
    "# main function\n",
    "\n",
    "def main():\n",
    "    print(\"hello world\")\n",
    "    name = input(\"What is your name?\")\n",
    "    print(\"Hello\",name)\n",
    "\n",
    "if __name__ == \"__main__\":\n",
    "    main()"
   ]
  }
 ]
}